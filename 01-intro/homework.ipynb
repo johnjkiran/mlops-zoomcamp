{
 "cells": [
  {
   "cell_type": "code",
   "execution_count": 1,
   "id": "c922f4ad",
   "metadata": {},
   "outputs": [],
   "source": [
    "import pandas as pd\n",
    "import sklearn\n",
    "from sklearn.feature_extraction import DictVectorizer\n",
    "import numpy as np\n",
    "import gc"
   ]
  },
  {
   "cell_type": "code",
   "execution_count": 2,
   "id": "df691140",
   "metadata": {},
   "outputs": [],
   "source": [
    "df = pd.read_parquet('https://d37ci6vzurychx.cloudfront.net/trip-data/yellow_tripdata_2023-01.parquet')\n",
    "df_feb = pd.read_parquet('https://d37ci6vzurychx.cloudfront.net/trip-data/yellow_tripdata_2023-02.parquet')"
   ]
  },
  {
   "cell_type": "code",
   "execution_count": 3,
   "id": "b4ea2b44",
   "metadata": {},
   "outputs": [],
   "source": [
    "df_frame = pd.DataFrame(df)\n",
    "df_frame_feb = pd.DataFrame(df_feb)\n",
    "df_frame.rename(columns={'airport_fee': 'Airport_fee'}, inplace=True)"
   ]
  },
  {
   "cell_type": "code",
   "execution_count": 4,
   "id": "051c265a",
   "metadata": {},
   "outputs": [
    {
     "data": {
      "text/plain": [
       "0"
      ]
     },
     "execution_count": 4,
     "metadata": {},
     "output_type": "execute_result"
    }
   ],
   "source": [
    "del df,df_feb\n",
    "gc.collect()"
   ]
  },
  {
   "cell_type": "code",
   "execution_count": 5,
   "id": "bcbca519",
   "metadata": {},
   "outputs": [],
   "source": [
    "df_frame['duration_minutes'] = (df_frame['tpep_dropoff_datetime'] - df_frame['tpep_pickup_datetime']).dt.total_seconds() / 60\n",
    "df_frame_feb['duration_minutes'] = (df_frame_feb['tpep_dropoff_datetime'] - df_frame_feb['tpep_pickup_datetime']).dt.total_seconds() / 60"
   ]
  },
  {
   "cell_type": "code",
   "execution_count": 6,
   "id": "c3e06e3f",
   "metadata": {},
   "outputs": [
    {
     "name": "stdout",
     "output_type": "stream",
     "text": [
      "Standard Deviation of Duration (minutes): 42.594351241920904\n"
     ]
    }
   ],
   "source": [
    "std_dev = df_frame['duration_minutes'].std()\n",
    "print(\"Standard Deviation of Duration (minutes):\", std_dev)"
   ]
  },
  {
   "cell_type": "code",
   "execution_count": 7,
   "id": "fcb474fe",
   "metadata": {},
   "outputs": [],
   "source": [
    "# Filter for durations between 1 and 60 minutes (inclusive)\n",
    "df_valid = df_frame[(df_frame['duration_minutes'] >= 1) & (df_frame['duration_minutes'] <= 60)]\n",
    "df_valid_feb = df_frame_feb[(df_frame_feb['duration_minutes'] >= 1) & (df_frame_feb['duration_minutes'] <= 60)]"
   ]
  },
  {
   "cell_type": "code",
   "execution_count": 8,
   "id": "9ff1830c",
   "metadata": {},
   "outputs": [
    {
     "name": "stdout",
     "output_type": "stream",
     "text": [
      "Fraction of valid records: 0.9812202822125979\n"
     ]
    }
   ],
   "source": [
    "fraction = len(df_valid) / len(df_frame)\n",
    "print(\"Fraction of valid records:\", fraction)"
   ]
  },
  {
   "cell_type": "code",
   "execution_count": 9,
   "id": "1729ae49",
   "metadata": {},
   "outputs": [
    {
     "name": "stderr",
     "output_type": "stream",
     "text": [
      "/tmp/ipykernel_84411/1904111145.py:1: SettingWithCopyWarning: \n",
      "A value is trying to be set on a copy of a slice from a DataFrame.\n",
      "Try using .loc[row_indexer,col_indexer] = value instead\n",
      "\n",
      "See the caveats in the documentation: https://pandas.pydata.org/pandas-docs/stable/user_guide/indexing.html#returning-a-view-versus-a-copy\n",
      "  df_valid.loc[:, 'PULocationID'] = df_valid['PULocationID'].astype(str)\n",
      "/tmp/ipykernel_84411/1904111145.py:2: SettingWithCopyWarning: \n",
      "A value is trying to be set on a copy of a slice from a DataFrame.\n",
      "Try using .loc[row_indexer,col_indexer] = value instead\n",
      "\n",
      "See the caveats in the documentation: https://pandas.pydata.org/pandas-docs/stable/user_guide/indexing.html#returning-a-view-versus-a-copy\n",
      "  df_valid.loc[:, 'DOLocationID'] = df_valid['DOLocationID'].astype(str)\n",
      "/tmp/ipykernel_84411/1904111145.py:3: SettingWithCopyWarning: \n",
      "A value is trying to be set on a copy of a slice from a DataFrame.\n",
      "Try using .loc[row_indexer,col_indexer] = value instead\n",
      "\n",
      "See the caveats in the documentation: https://pandas.pydata.org/pandas-docs/stable/user_guide/indexing.html#returning-a-view-versus-a-copy\n",
      "  df_valid_feb.loc[:, 'PULocationID'] = df_valid_feb['PULocationID'].astype(str)\n",
      "/tmp/ipykernel_84411/1904111145.py:4: SettingWithCopyWarning: \n",
      "A value is trying to be set on a copy of a slice from a DataFrame.\n",
      "Try using .loc[row_indexer,col_indexer] = value instead\n",
      "\n",
      "See the caveats in the documentation: https://pandas.pydata.org/pandas-docs/stable/user_guide/indexing.html#returning-a-view-versus-a-copy\n",
      "  df_valid_feb.loc[:, 'DOLocationID'] = df_valid_feb['DOLocationID'].astype(str)\n"
     ]
    }
   ],
   "source": [
    "df_valid.loc[:, 'PULocationID'] = df_valid['PULocationID'].astype(str)\n",
    "df_valid.loc[:, 'DOLocationID'] = df_valid['DOLocationID'].astype(str)\n",
    "df_valid_feb.loc[:, 'PULocationID'] = df_valid_feb['PULocationID'].astype(str)\n",
    "df_valid_feb.loc[:, 'DOLocationID'] = df_valid_feb['DOLocationID'].astype(str)"
   ]
  },
  {
   "cell_type": "code",
   "execution_count": 10,
   "id": "4655e165",
   "metadata": {},
   "outputs": [
    {
     "data": {
      "text/plain": [
       "373"
      ]
     },
     "execution_count": 10,
     "metadata": {},
     "output_type": "execute_result"
    }
   ],
   "source": [
    "del df_frame,df_frame_feb\n",
    "gc.collect()"
   ]
  },
  {
   "cell_type": "code",
   "execution_count": 11,
   "id": "7a97c1b7",
   "metadata": {},
   "outputs": [],
   "source": [
    "list_of_dicts = df_valid[['PULocationID','DOLocationID']].to_dict(orient='records')\n",
    "list_of_dicts_feb = df_valid_feb[['PULocationID','DOLocationID']].to_dict(orient='records')"
   ]
  },
  {
   "cell_type": "code",
   "execution_count": 14,
   "id": "72c09748",
   "metadata": {},
   "outputs": [],
   "source": [
    "# Initialize the DictVectorizer to return sparse matrix\n",
    "vectorizer = DictVectorizer(sparse=True)\n",
    "\n",
    "# Fit and transform the list of dictionaries into a sparse matrix\n",
    "X_sparse = vectorizer.fit_transform(list_of_dicts)\n",
    "X_sparse_feb = vectorizer.transform(list_of_dicts_feb)"
   ]
  },
  {
   "cell_type": "code",
   "execution_count": 13,
   "id": "735bb499",
   "metadata": {},
   "outputs": [
    {
     "name": "stdout",
     "output_type": "stream",
     "text": [
      "Number of columns (features): 515\n"
     ]
    }
   ],
   "source": [
    "num_columns = X_sparse.shape[1]\n",
    "print(\"Number of columns (features):\", num_columns)"
   ]
  },
  {
   "cell_type": "code",
   "execution_count": 15,
   "id": "0967bd65",
   "metadata": {},
   "outputs": [],
   "source": [
    "from scipy.sparse import save_npz\n",
    "save_npz('X_sparse_feb.npz', X_sparse_feb)"
   ]
  },
  {
   "cell_type": "code",
   "execution_count": null,
   "id": "772206d8",
   "metadata": {},
   "outputs": [],
   "source": [
    "del df_frame,df_frame_feb\n",
    "gc.collect()"
   ]
  },
  {
   "cell_type": "code",
   "execution_count": 16,
   "id": "7ce1ed51",
   "metadata": {},
   "outputs": [
    {
     "name": "stdout",
     "output_type": "stream",
     "text": [
      "Variable            Type              Data/Info\n",
      "-----------------------------------------------\n",
      "DictVectorizer      type              <class 'sklearn.feature_e<...>ctorizer.DictVectorizer'>\n",
      "X_sparse            csr_matrix          (0, 43)\t1.0\\n  (0, 325)<...>1.0\\n  (3009172, 435)\t1.0\n",
      "X_sparse_feb        csr_matrix          (0, 67)\t1.0\\n  (0, 304)<...>1.0\\n  (2855950, 325)\t1.0\n",
      "df_valid            DataFrame                  VendorID tpep_pi<...>009173 rows x 20 columns]\n",
      "df_valid_feb        DataFrame                  VendorID tpep_pi<...>855951 rows x 20 columns]\n",
      "fraction            float             0.9812202822125979\n",
      "gc                  module            <module 'gc' (built-in)>\n",
      "list_of_dicts       list              n=3009173\n",
      "list_of_dicts_feb   list              n=2855951\n",
      "np                  module            <module 'numpy' from '/ho<...>kages/numpy/__init__.py'>\n",
      "num_columns         int               515\n",
      "pd                  module            <module 'pandas' from '/h<...>ages/pandas/__init__.py'>\n",
      "save_npz            function          <function save_npz at 0x744c4126f4c0>\n",
      "sklearn             module            <module 'sklearn' from '/<...>ges/sklearn/__init__.py'>\n",
      "std_dev             float             42.594351241920904\n",
      "vectorizer          DictVectorizer    DictVectorizer()\n"
     ]
    }
   ],
   "source": [
    "%whos"
   ]
  },
  {
   "cell_type": "code",
   "execution_count": 17,
   "id": "750c6992",
   "metadata": {},
   "outputs": [
    {
     "data": {
      "text/plain": [
       "0"
      ]
     },
     "execution_count": 17,
     "metadata": {},
     "output_type": "execute_result"
    }
   ],
   "source": [
    "del list_of_dicts,list_of_dicts_feb\n",
    "gc.collect()"
   ]
  },
  {
   "cell_type": "code",
   "execution_count": 18,
   "id": "7cbe756f",
   "metadata": {},
   "outputs": [
    {
     "name": "stdout",
     "output_type": "stream",
     "text": [
      "RMSE on Training Data: 7.6481236638615435\n"
     ]
    },
    {
     "ename": "NameError",
     "evalue": "name 'joblib' is not defined",
     "output_type": "error",
     "traceback": [
      "\u001b[0;31m---------------------------------------------------------------------------\u001b[0m",
      "\u001b[0;31mNameError\u001b[0m                                 Traceback (most recent call last)",
      "Input \u001b[0;32mIn [18]\u001b[0m, in \u001b[0;36m<cell line: 21>\u001b[0;34m()\u001b[0m\n\u001b[1;32m     19\u001b[0m rmse_train \u001b[38;5;241m=\u001b[39m np\u001b[38;5;241m.\u001b[39msqrt(mse_train)\n\u001b[1;32m     20\u001b[0m \u001b[38;5;28mprint\u001b[39m(\u001b[38;5;124mf\u001b[39m\u001b[38;5;124m\"\u001b[39m\u001b[38;5;124mRMSE on Training Data: \u001b[39m\u001b[38;5;132;01m{\u001b[39;00mrmse_train\u001b[38;5;132;01m}\u001b[39;00m\u001b[38;5;124m\"\u001b[39m)\n\u001b[0;32m---> 21\u001b[0m \u001b[43mjoblib\u001b[49m\u001b[38;5;241m.\u001b[39mdump(model, \u001b[38;5;124m'\u001b[39m\u001b[38;5;124mlinear_model.pkl\u001b[39m\u001b[38;5;124m'\u001b[39m)\n",
      "\u001b[0;31mNameError\u001b[0m: name 'joblib' is not defined"
     ]
    }
   ],
   "source": [
    "import pandas as pd\n",
    "from sklearn.linear_model import LinearRegression\n",
    "from sklearn.model_selection import train_test_split\n",
    "from sklearn.metrics import mean_squared_error\n",
    "\n",
    "# Step 1: Prepare the features (X) and response variable (y)\n",
    "X = X_sparse  # Feature matrix (sparse matrix from previous step)\n",
    "y = df_valid['duration_minutes']  # Response variable\n",
    "\n",
    "# Step 2: Split the data into training and testing sets\n",
    "X_train, X_test, y_train, y_test = train_test_split(X, y, test_size=0.2, random_state=42)\n",
    "\n",
    "# Step 3: Train a linear regression model\n",
    "model = LinearRegression()\n",
    "model.fit(X_train, y_train)\n",
    "\n",
    "y_train_pred = model.predict(X_train)\n",
    "mse_train = mean_squared_error(y_train, y_train_pred)\n",
    "rmse_train = np.sqrt(mse_train)\n",
    "print(f\"RMSE on Training Data: {rmse_train}\")"
   ]
  },
  {
   "cell_type": "code",
   "execution_count": 19,
   "id": "0be1b8aa",
   "metadata": {},
   "outputs": [
    {
     "data": {
      "text/plain": [
       "['linear_model.pkl']"
      ]
     },
     "execution_count": 19,
     "metadata": {},
     "output_type": "execute_result"
    }
   ],
   "source": [
    "import joblib\n",
    "joblib.dump(model, 'linear_model.pkl')"
   ]
  },
  {
   "cell_type": "code",
   "execution_count": 20,
   "id": "d0e7e7a7",
   "metadata": {},
   "outputs": [
    {
     "name": "stdout",
     "output_type": "stream",
     "text": [
      "RMSE on Validation Data: 7.812140339904778\n"
     ]
    }
   ],
   "source": [
    "#Validation set\n",
    "y_feb = df_valid_feb['duration_minutes']\n",
    "y_valid_pred = model.predict(X_sparse_feb)\n",
    "mse_valid = mean_squared_error(y_feb, y_valid_pred)\n",
    "rmse_valid = np.sqrt(mse_valid)\n",
    "print(f\"RMSE on Validation Data: {rmse_valid}\")"
   ]
  },
  {
   "cell_type": "code",
   "execution_count": null,
   "id": "0c40c263",
   "metadata": {},
   "outputs": [],
   "source": []
  }
 ],
 "metadata": {
  "kernelspec": {
   "display_name": "Python 3 (ipykernel)",
   "language": "python",
   "name": "python3"
  },
  "language_info": {
   "codemirror_mode": {
    "name": "ipython",
    "version": 3
   },
   "file_extension": ".py",
   "mimetype": "text/x-python",
   "name": "python",
   "nbconvert_exporter": "python",
   "pygments_lexer": "ipython3",
   "version": "3.9.12"
  }
 },
 "nbformat": 4,
 "nbformat_minor": 5
}
